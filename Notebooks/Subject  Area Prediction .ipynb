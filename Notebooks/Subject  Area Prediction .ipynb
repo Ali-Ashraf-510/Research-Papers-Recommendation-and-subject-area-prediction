{
 "cells": [
  {
   "cell_type": "markdown",
   "metadata": {
    "id": "A8_3W3TmV9fA"
   },
   "source": [
    "<a id=\"description\"></a>\n",
    "\n",
    "<div style=\"text-align:center; border-radius:15px 50px; padding:15px; color:white; margin:0; font-size:200%; font-family:Pacifico; background-color:#0ca9e9; overflow:hidden\"><b>Project Description</b></div> <div style=\"padding: 40px; border-color: #0ca9e9; border-radius: 10px; box-shadow: 0 2px 4px 0 rgba(0, 0, 0, 0.1); border: 2px solid #0ca9e9;\"> <p> This project addresses the challenge of <b>Research Paper Recommendation</b> and <b>Subject Area Prediction</b> using deep learning and natural language processing techniques on academic abstracts. It aims to help researchers efficiently discover relevant papers and automatically tag them with appropriate subject areas. </p> <h3 style=\"color:#2E86C1;\">🔍 Objective</h3> <p> To build a dual-purpose system that: <ul> <li>Classifies the subject areas of research papers using abstract content</li> <li>Recommends similar academic papers based on semantic similarity</li> </ul> </p> <h3 style=\"color:#2E86C1;\">📊 Dataset</h3> <p> The dataset is sourced from <b>ArXiv</b> and contains: <ul> <li>Paper titles and abstracts</li> <li>Multiple subject area labels (multi-label format)</li> <li>Thousands of labeled examples across diverse fields such as AI, CS, Physics, and more</li> </ul> </p> <h3 style=\"color:#2E86C1;\">🛠️ Technologies Used</h3> <ul> <li><b>Python</b> – Programming language</li> <li><b>TensorFlow & Keras</b> – Deep learning framework</li> <li><b>TextVectorization Layer</b> – For TF-IDF-based text feature extraction</li> <li><b>Scikit-learn</b> – Evaluation and recommendation support</li> <li><b>Pickle</b> – Saving/loading model weights and vectorizer state</li> </ul> <h3 style=\"color:#2E86C1;\">🧠 Model Architecture</h3> <ul> <li><b>Text Vectorization</b> – Using unigrams, bigrams (n-grams)</li> <li><b>Dense Layers</b> – Two fully connected layers (512, 256 neurons) with ReLU activation</li> <li><b>Dropout</b> – Regularization to prevent overfitting</li> <li><b>Sigmoid Output Layer</b> – For multi-label classification of subject areas</li> </ul> <h3 style=\"color:#2E86C1;\">✅ Evaluation</h3> <p> The model performance was assessed using: <ul> <li><b>Binary Accuracy</b></li>  </ul> It achieved strong multi-label classification performance, enabling accurate subject tagging across 165 classes. </p> <h3 style=\"color:#2E86C1;\">🚀 Impact</h3> <p> This system supports: <ul> <li>Efficient research discovery and navigation</li> <li>Automated metadata tagging in digital libraries</li> <li>Enhanced scholarly search engines</li> </ul> </p> </div>"
   ]
  },
  {
   "cell_type": "markdown",
   "metadata": {
    "id": "D2FiJ_gSjqwC"
   },
   "source": [
    "<a id=\"team\"></a>\n",
    "\n",
    "<div style=\"text-align:center; border-radius:15px 50px; padding:15px; color:white; margin:0; font-size:200%; font-family:Pacifico; background-color:#0ca9e9; overflow:hidden\"><b>Our Team</b></div> <div style=\"padding: 40px; border-color: #0ca9e9; border-radius: 10px; box-shadow: 0 2px 4px 0 rgba(0, 0, 0, 0.1); border: 2px solid #0ca9e9;\"> <p> This project was conducted as part of the <b>Artificial Intelligence (AI)</b> course, under the academic supervision of <b>Dr. Hany El-Ghaish</b> and <b>Eng. Mohamed El-Sharqawy</b>, Assistant Lecturer. Their guidance played a crucial role in shaping our direction, enhancing our technical understanding, and encouraging us to explore real-world applications of AI.</p> <p> With their insightful feedback and mentorship, we were motivated to design and implement a comprehensive deep learning solution to a meaningful NLP problem. Their support helped us balance theoretical concepts with hands-on practices throughout the project lifecycle. </p> <h3 style=\"color:#2E86C1;\">🤝 Team Members</h3> <ul> <li><b>Ali Ibrahim</b></li> <li><b>Abdel Fattah El Sabagh</b></li> <li><b>Mohamed Tawfik</b></li> <li><b>Mohamed Nasr</b></li> <li><b>Yousef Dewidar</b></li> <li><b>Ali Ashraf</b></li> <li><b>Amr Ghanem</b></li> <li><b>Mohamed Mosaad</b></li> <li><b>Farouk Mohamed</b></li> <li><b>Fares Mahmoud</b></li> <li><b>Karem El Sayes</b></li> <li><b>Abdelrahman El Gammal</b></li> </ul> <h3 style=\"color:#2E86C1;\">🌟 Collaboration Highlights</h3> <ul> <li>Seamless coordination across all stages of the project</li> <li>Active knowledge sharing and group learning sessions</li> <li>Efficient division of tasks based on individual strengths</li> <li>Commitment to quality, innovation, and timely delivery</li> </ul> <p> Our journey through this project has strengthened not only our technical proficiency but also our appreciation for the value of teamwork and mentorship. We extend our gratitude to our instructors and teammates for making this experience rewarding and memorable. </p> </div>"
   ]
  },
  {
   "cell_type": "markdown",
   "metadata": {
    "id": "6KrAz6pojqwD"
   },
   "source": [
    "<a id=\"1\"></a>\n",
    "# <div style=\"text-align:center; border-radius:15px 50px; padding:15px; color:white; margin:0; font-size:100%; font-family:Pacifico; background-color:#0ca9e9; overflow:hidden\"><b>Importing Libraries</b></div>"
   ]
  },
  {
   "cell_type": "code",
   "execution_count": 7,
   "metadata": {
    "executionInfo": {
     "elapsed": 11040,
     "status": "ok",
     "timestamp": 1747557957858,
     "user": {
      "displayName": "Mohamed Nasr",
      "userId": "05906421286611802623"
     },
     "user_tz": 420
    },
    "id": "bpvsztLr0U6c"
   },
   "outputs": [
    {
     "ename": "ModuleNotFoundError",
     "evalue": "No module named 'tensorflow'",
     "output_type": "error",
     "traceback": [
      "\u001b[1;31m---------------------------------------------------------------------------\u001b[0m",
      "\u001b[1;31mModuleNotFoundError\u001b[0m                       Traceback (most recent call last)",
      "Cell \u001b[1;32mIn[7], line 18\u001b[0m\n\u001b[0;32m     13\u001b[0m \u001b[38;5;28;01mfrom\u001b[39;00m \u001b[38;5;21;01msklearn\u001b[39;00m\u001b[38;5;21;01m.\u001b[39;00m\u001b[38;5;21;01mmodel_selection\u001b[39;00m \u001b[38;5;28;01mimport\u001b[39;00m train_test_split\n\u001b[0;32m     15\u001b[0m \u001b[38;5;66;03m# For Text Preprocessing and Building the Model\u001b[39;00m\n\u001b[0;32m     16\u001b[0m \u001b[38;5;66;03m# The following libraries are used for natural language processing and building the model.\u001b[39;00m\n\u001b[1;32m---> 18\u001b[0m \u001b[38;5;28;01mimport\u001b[39;00m \u001b[38;5;21;01mtensorflow\u001b[39;00m \u001b[38;5;28;01mas\u001b[39;00m \u001b[38;5;21;01mtf\u001b[39;00m\n\u001b[0;32m     19\u001b[0m \u001b[38;5;28;01mfrom\u001b[39;00m \u001b[38;5;21;01mtensorflow\u001b[39;00m \u001b[38;5;28;01mimport\u001b[39;00m keras\n\u001b[0;32m     20\u001b[0m \u001b[38;5;28;01mfrom\u001b[39;00m \u001b[38;5;21;01mtensorflow\u001b[39;00m\u001b[38;5;21;01m.\u001b[39;00m\u001b[38;5;21;01mkeras\u001b[39;00m \u001b[38;5;28;01mimport\u001b[39;00m layers\n",
      "\u001b[1;31mModuleNotFoundError\u001b[0m: No module named 'tensorflow'"
     ]
    }
   ],
   "source": [
    "## Main Libraries\n",
    "# The following libraries are used for data manipulation and analysis.\n",
    "import numpy as np\n",
    "import pandas as pd \n",
    "import os\n",
    "import matplotlib.pyplot as plt\n",
    "\n",
    "# is used for safely evaluating strings containing Python literals or container displays\n",
    "# (e.g., lists, dictionaries) to their corresponding Python objects.\n",
    "from ast import literal_eval\n",
    "\n",
    "#For Data Spliting\n",
    "from sklearn.model_selection import train_test_split\n",
    "\n",
    "# For Text Preprocessing and Building the Model\n",
    "# The following libraries are used for natural language processing and building the model.\n",
    "\n",
    "import tensorflow as tf\n",
    "from tensorflow import keras\n",
    "from tensorflow.keras import layers\n",
    "from tensorflow.keras.callbacks import EarlyStopping\n",
    "\n",
    "# Importing scikit-learn vectorizers for more deployment-friendly text processing\n",
    "from sklearn.feature_extraction.text import TfidfVectorizer, CountVectorizer\n",
    "\n",
    "# for saving and loading the model\n",
    "import pickle"
   ]
  },
  {
   "cell_type": "markdown",
   "metadata": {
    "id": "fmqSnpVbjqwF"
   },
   "source": [
    "<a id=\"1\"></a>\n",
    "# <div style=\"text-align:center; border-radius:15px 50px; padding:15px; color:white; margin:0; font-size:100%; font-family:Pacifico; background-color:#0ca9e9; overflow:hidden\"><b>Reading Data</b></div>"
   ]
  },
  {
   "cell_type": "code",
   "execution_count": 2,
   "metadata": {
    "colab": {
     "base_uri": "https://localhost:8080/",
     "height": 206
    },
    "executionInfo": {
     "elapsed": 1543,
     "status": "ok",
     "timestamp": 1747558003146,
     "user": {
      "displayName": "Mohamed Nasr",
      "userId": "05906421286611802623"
     },
     "user_tz": 420
    },
    "id": "lsxfMUv2yRdb",
    "outputId": "c040fb04-32fa-4616-efa6-52bbf3faa843"
   },
   "outputs": [
    {
     "data": {
      "text/html": [
       "<div>\n",
       "<style scoped>\n",
       "    .dataframe tbody tr th:only-of-type {\n",
       "        vertical-align: middle;\n",
       "    }\n",
       "\n",
       "    .dataframe tbody tr th {\n",
       "        vertical-align: top;\n",
       "    }\n",
       "\n",
       "    .dataframe thead th {\n",
       "        text-align: right;\n",
       "    }\n",
       "</style>\n",
       "<table border=\"1\" class=\"dataframe\">\n",
       "  <thead>\n",
       "    <tr style=\"text-align: right;\">\n",
       "      <th></th>\n",
       "      <th>terms</th>\n",
       "      <th>titles</th>\n",
       "      <th>abstracts</th>\n",
       "    </tr>\n",
       "  </thead>\n",
       "  <tbody>\n",
       "    <tr>\n",
       "      <th>0</th>\n",
       "      <td>['cs.LG']</td>\n",
       "      <td>Multi-Level Attention Pooling for Graph Neural...</td>\n",
       "      <td>Graph neural networks (GNNs) have been widely ...</td>\n",
       "    </tr>\n",
       "    <tr>\n",
       "      <th>1</th>\n",
       "      <td>['cs.LG', 'cs.AI']</td>\n",
       "      <td>Decision Forests vs. Deep Networks: Conceptual...</td>\n",
       "      <td>Deep networks and decision forests (such as ra...</td>\n",
       "    </tr>\n",
       "    <tr>\n",
       "      <th>2</th>\n",
       "      <td>['cs.LG', 'cs.CR', 'stat.ML']</td>\n",
       "      <td>Power up! Robust Graph Convolutional Network v...</td>\n",
       "      <td>Graph convolutional networks (GCNs) are powerf...</td>\n",
       "    </tr>\n",
       "    <tr>\n",
       "      <th>3</th>\n",
       "      <td>['cs.LG', 'cs.CR']</td>\n",
       "      <td>Releasing Graph Neural Networks with Different...</td>\n",
       "      <td>With the increasing popularity of Graph Neural...</td>\n",
       "    </tr>\n",
       "    <tr>\n",
       "      <th>4</th>\n",
       "      <td>['cs.LG']</td>\n",
       "      <td>Recurrence-Aware Long-Term Cognitive Network f...</td>\n",
       "      <td>Machine learning solutions for pattern classif...</td>\n",
       "    </tr>\n",
       "  </tbody>\n",
       "</table>\n",
       "</div>"
      ],
      "text/plain": [
       "                           terms  \\\n",
       "0                      ['cs.LG']   \n",
       "1             ['cs.LG', 'cs.AI']   \n",
       "2  ['cs.LG', 'cs.CR', 'stat.ML']   \n",
       "3             ['cs.LG', 'cs.CR']   \n",
       "4                      ['cs.LG']   \n",
       "\n",
       "                                              titles  \\\n",
       "0  Multi-Level Attention Pooling for Graph Neural...   \n",
       "1  Decision Forests vs. Deep Networks: Conceptual...   \n",
       "2  Power up! Robust Graph Convolutional Network v...   \n",
       "3  Releasing Graph Neural Networks with Different...   \n",
       "4  Recurrence-Aware Long-Term Cognitive Network f...   \n",
       "\n",
       "                                           abstracts  \n",
       "0  Graph neural networks (GNNs) have been widely ...  \n",
       "1  Deep networks and decision forests (such as ra...  \n",
       "2  Graph convolutional networks (GCNs) are powerf...  \n",
       "3  With the increasing popularity of Graph Neural...  \n",
       "4  Machine learning solutions for pattern classif...  "
      ]
     },
     "execution_count": 2,
     "metadata": {},
     "output_type": "execute_result"
    }
   ],
   "source": [
    "df = pd.read_csv(\"arxiv_data_210930-054931.csv\")\n",
    "df.head()"
   ]
  },
  {
   "cell_type": "markdown",
   "metadata": {
    "id": "x1eZkGlky4-j"
   },
   "source": [
    "<a id=\"1\"></a>\n",
    "# <div style=\"text-align:center; border-radius:15px 50px; padding:15px; color:white; margin:0; font-size:100%; font-family:Pacifico; background-color:#0ca9e9; overflow:hidden\"><b>Data Cleaning and Preprocessing</b></div>\n",
    "\n"
   ]
  },
  {
   "cell_type": "code",
   "execution_count": 3,
   "metadata": {
    "colab": {
     "base_uri": "https://localhost:8080/",
     "height": 458
    },
    "executionInfo": {
     "elapsed": 13,
     "status": "ok",
     "timestamp": 1747558009220,
     "user": {
      "displayName": "Mohamed Nasr",
      "userId": "05906421286611802623"
     },
     "user_tz": 420
    },
    "id": "bnsph7Xay8tZ",
    "outputId": "24acce79-f6e4-467a-c200-8acd2c72ea04"
   },
   "outputs": [
    {
     "data": {
      "text/plain": [
       "0                                          ['cs.LG']\n",
       "1                                 ['cs.LG', 'cs.AI']\n",
       "2                      ['cs.LG', 'cs.CR', 'stat.ML']\n",
       "3                                 ['cs.LG', 'cs.CR']\n",
       "4                                          ['cs.LG']\n",
       "                            ...                     \n",
       "56176                             ['cs.CV', 'cs.IR']\n",
       "56177    ['cs.LG', 'cs.AI', 'cs.CL', 'I.2.6; I.2.7']\n",
       "56178                                      ['cs.LG']\n",
       "56179                ['stat.ML', 'cs.LG', 'math.OC']\n",
       "56180                  ['cs.LG', 'cs.AI', 'stat.ML']\n",
       "Name: terms, Length: 56181, dtype: object"
      ]
     },
     "execution_count": 3,
     "metadata": {},
     "output_type": "execute_result"
    }
   ],
   "source": [
    "df['terms']   # This column contains the terms used in the paper"
   ]
  },
  {
   "cell_type": "code",
   "execution_count": 4,
   "metadata": {
    "colab": {
     "base_uri": "https://localhost:8080/"
    },
    "executionInfo": {
     "elapsed": 16,
     "status": "ok",
     "timestamp": 1747558011599,
     "user": {
      "displayName": "Mohamed Nasr",
      "userId": "05906421286611802623"
     },
     "user_tz": 420
    },
    "id": "f6_TDyCczK25",
    "outputId": "0094b3fe-1509-4d35-c81d-585798630148"
   },
   "outputs": [
    {
     "data": {
      "text/plain": [
       "array([\"['cs.LG']\", \"['cs.LG', 'cs.AI']\", \"['cs.LG', 'cs.CR', 'stat.ML']\",\n",
       "       ..., \"['cs.LG', 'cs.AI', 'math.PR']\",\n",
       "       \"['cs.LG', 'stat.ME', 'stat.ML', 'I.2.0; G.3']\",\n",
       "       \"['cs.LG', 'cs.AI', 'cs.CL', 'I.2.6; I.2.7']\"], dtype=object)"
      ]
     },
     "execution_count": 4,
     "metadata": {},
     "output_type": "execute_result"
    }
   ],
   "source": [
    "df['terms'].unique() #Show all the unique terms in the column"
   ]
  },
  {
   "cell_type": "code",
   "execution_count": 2,
   "metadata": {
    "colab": {
     "base_uri": "https://localhost:8080/",
     "height": 429
    },
    "executionInfo": {
     "elapsed": 17,
     "status": "ok",
     "timestamp": 1747558013989,
     "user": {
      "displayName": "Mohamed Nasr",
      "userId": "05906421286611802623"
     },
     "user_tz": 420
    },
    "id": "kydDXU2fzP9p",
    "outputId": "01b5fc87-daf3-4832-bd7a-897050adabdd"
   },
   "outputs": [
    {
     "ename": "NameError",
     "evalue": "name 'df' is not defined",
     "output_type": "error",
     "traceback": [
      "\u001b[1;31m---------------------------------------------------------------------------\u001b[0m",
      "\u001b[1;31mNameError\u001b[0m                                 Traceback (most recent call last)",
      "Cell \u001b[1;32mIn[2], line 1\u001b[0m\n\u001b[1;32m----> 1\u001b[0m df[\u001b[38;5;124m'\u001b[39m\u001b[38;5;124mterms\u001b[39m\u001b[38;5;124m'\u001b[39m]\u001b[38;5;241m.\u001b[39mvalue_counts()[:\u001b[38;5;241m10\u001b[39m]\n",
      "\u001b[1;31mNameError\u001b[0m: name 'df' is not defined"
     ]
    }
   ],
   "source": [
    "df['terms'].value_counts()[:10]  #Show the top 10 terms with their counts\n"
   ]
  },
  {
   "cell_type": "code",
   "execution_count": 6,
   "metadata": {
    "colab": {
     "base_uri": "https://localhost:8080/"
    },
    "executionInfo": {
     "elapsed": 165,
     "status": "ok",
     "timestamp": 1747558018727,
     "user": {
      "displayName": "Mohamed Nasr",
      "userId": "05906421286611802623"
     },
     "user_tz": 420
    },
    "id": "AOzIZok8yWOx",
    "outputId": "e6aeafb1-c929-4571-98a9-90323d3230c9"
   },
   "outputs": [
    {
     "data": {
      "text/plain": [
       "15054"
      ]
     },
     "execution_count": 6,
     "metadata": {},
     "output_type": "execute_result"
    }
   ],
   "source": [
    "df.duplicated().sum()   # Check for duplicates in the dataset"
   ]
  },
  {
   "cell_type": "code",
   "execution_count": 7,
   "metadata": {
    "executionInfo": {
     "elapsed": 144,
     "status": "ok",
     "timestamp": 1747558023158,
     "user": {
      "displayName": "Mohamed Nasr",
      "userId": "05906421286611802623"
     },
     "user_tz": 420
    },
    "id": "9MvHyDOr7kPK"
   },
   "outputs": [],
   "source": [
    "df.drop_duplicates(inplace=True)   # Remove duplicates"
   ]
  },
  {
   "cell_type": "code",
   "execution_count": 8,
   "metadata": {
    "colab": {
     "base_uri": "https://localhost:8080/"
    },
    "executionInfo": {
     "elapsed": 306,
     "status": "ok",
     "timestamp": 1747558030557,
     "user": {
      "displayName": "Mohamed Nasr",
      "userId": "05906421286611802623"
     },
     "user_tz": 420
    },
    "id": "m3fQieSu83N7",
    "outputId": "a4ca19c8-daa7-4de8-ff31-993274f6d468"
   },
   "outputs": [
    {
     "data": {
      "text/plain": [
       "0"
      ]
     },
     "execution_count": 8,
     "metadata": {},
     "output_type": "execute_result"
    }
   ],
   "source": [
    "df.duplicated().sum()   # Check for duplicates in the dataset"
   ]
  },
  {
   "cell_type": "code",
   "execution_count": 9,
   "metadata": {
    "colab": {
     "base_uri": "https://localhost:8080/"
    },
    "id": "GYIJS5fb9Do7",
    "outputId": "e17ce7b0-ba7b-4da5-f495-02eae3f0f907"
   },
   "outputs": [
    {
     "data": {
      "text/plain": [
       "(41127, 3)"
      ]
     },
     "execution_count": 9,
     "metadata": {},
     "output_type": "execute_result"
    }
   ],
   "source": [
    "df.shape   # Check the shape of the dataset"
   ]
  },
  {
   "cell_type": "code",
   "execution_count": 10,
   "metadata": {
    "colab": {
     "base_uri": "https://localhost:8080/",
     "height": 178
    },
    "executionInfo": {
     "elapsed": 23,
     "status": "ok",
     "timestamp": 1747558046276,
     "user": {
      "displayName": "Mohamed Nasr",
      "userId": "05906421286611802623"
     },
     "user_tz": 420
    },
    "id": "F3DtlsGjk3Ii",
    "outputId": "a16c053d-f71f-471d-ba6c-45074a698c7c"
   },
   "outputs": [
    {
     "data": {
      "text/plain": [
       "terms        0\n",
       "titles       0\n",
       "abstracts    0\n",
       "dtype: int64"
      ]
     },
     "execution_count": 10,
     "metadata": {},
     "output_type": "execute_result"
    }
   ],
   "source": [
    "df.isna().sum()"
   ]
  },
  {
   "cell_type": "code",
   "execution_count": 11,
   "metadata": {
    "colab": {
     "base_uri": "https://localhost:8080/",
     "height": 458
    },
    "executionInfo": {
     "elapsed": 3,
     "status": "ok",
     "timestamp": 1747558053395,
     "user": {
      "displayName": "Mohamed Nasr",
      "userId": "05906421286611802623"
     },
     "user_tz": 420
    },
    "id": "ulXwTiub_jx-",
    "outputId": "4e4498fd-e9fc-452e-bd02-7245e509d816"
   },
   "outputs": [
    {
     "data": {
      "text/plain": [
       "0                                          ['cs.LG']\n",
       "1                                 ['cs.LG', 'cs.AI']\n",
       "2                      ['cs.LG', 'cs.CR', 'stat.ML']\n",
       "3                                 ['cs.LG', 'cs.CR']\n",
       "4                                          ['cs.LG']\n",
       "                            ...                     \n",
       "56173                                    ['stat.ML']\n",
       "56175                           ['stat.ML', 'cs.LG']\n",
       "56176                             ['cs.CV', 'cs.IR']\n",
       "56177    ['cs.LG', 'cs.AI', 'cs.CL', 'I.2.6; I.2.7']\n",
       "56179                ['stat.ML', 'cs.LG', 'math.OC']\n",
       "Name: terms, Length: 41127, dtype: object"
      ]
     },
     "execution_count": 11,
     "metadata": {},
     "output_type": "execute_result"
    }
   ],
   "source": [
    "df['terms']    # there is some targets only appears one time\n",
    "# We will remove these targets from the dataset"
   ]
  },
  {
   "cell_type": "code",
   "execution_count": 12,
   "metadata": {
    "executionInfo": {
     "elapsed": 3,
     "status": "ok",
     "timestamp": 1747558056314,
     "user": {
      "displayName": "Mohamed Nasr",
      "userId": "05906421286611802623"
     },
     "user_tz": 420
    },
    "id": "-3r7owz9-EcT"
   },
   "outputs": [],
   "source": [
    "term_counts = df['terms'].value_counts()       # Count the occurrences of each term\n",
    "common_terms=term_counts[term_counts >1].index   # Get the terms that appear more than once"
   ]
  },
  {
   "cell_type": "code",
   "execution_count": 13,
   "metadata": {
    "executionInfo": {
     "elapsed": 16,
     "status": "ok",
     "timestamp": 1747558060162,
     "user": {
      "displayName": "Mohamed Nasr",
      "userId": "05906421286611802623"
     },
     "user_tz": 420
    },
    "id": "rrrDBbQ6-vo0"
   },
   "outputs": [],
   "source": [
    "df=df[df['terms'].isin(common_terms)]  # Filter the DataFrame to keep only the common terms\n"
   ]
  },
  {
   "cell_type": "code",
   "execution_count": 14,
   "metadata": {
    "colab": {
     "base_uri": "https://localhost:8080/",
     "height": 115
    },
    "executionInfo": {
     "elapsed": 13,
     "status": "ok",
     "timestamp": 1747558062167,
     "user": {
      "displayName": "Mohamed Nasr",
      "userId": "05906421286611802623"
     },
     "user_tz": 420
    },
    "id": "0UlGguiIFgUc",
    "outputId": "db4dc9b5-99b8-4045-ab36-1065d374c437"
   },
   "outputs": [
    {
     "data": {
      "text/plain": [
       "Series([], Name: count, dtype: int64)"
      ]
     },
     "execution_count": 14,
     "metadata": {},
     "output_type": "execute_result"
    }
   ],
   "source": [
    "df['terms'].value_counts()[df['terms'].value_counts()==1]   # Check if there are any terms that appear only once"
   ]
  },
  {
   "cell_type": "code",
   "execution_count": 15,
   "metadata": {
    "colab": {
     "base_uri": "https://localhost:8080/"
    },
    "executionInfo": {
     "elapsed": 11,
     "status": "ok",
     "timestamp": 1747558065543,
     "user": {
      "displayName": "Mohamed Nasr",
      "userId": "05906421286611802623"
     },
     "user_tz": 420
    },
    "id": "4kLkbEeEFtQk",
    "outputId": "4f5876aa-2802-487a-8212-030ab86ef51b"
   },
   "outputs": [
    {
     "data": {
      "text/plain": [
       "(38623, 3)"
      ]
     },
     "execution_count": 15,
     "metadata": {},
     "output_type": "execute_result"
    }
   ],
   "source": [
    "df.shape  # Check the shape of the dataset again"
   ]
  },
  {
   "cell_type": "code",
   "execution_count": 16,
   "metadata": {
    "executionInfo": {
     "elapsed": 297,
     "status": "ok",
     "timestamp": 1747558069505,
     "user": {
      "displayName": "Mohamed Nasr",
      "userId": "05906421286611802623"
     },
     "user_tz": 420
    },
    "id": "h2Rs_DVJGHzl"
   },
   "outputs": [],
   "source": [
    "# Convert the 'terms' column to a list of terms\n",
    "\n",
    "df['terms']=df['terms'].apply( literal_eval)   # Convert the string representation of lists to actual lists"
   ]
  },
  {
   "cell_type": "code",
   "execution_count": 17,
   "metadata": {
    "colab": {
     "base_uri": "https://localhost:8080/"
    },
    "executionInfo": {
     "elapsed": 44,
     "status": "ok",
     "timestamp": 1747558111304,
     "user": {
      "displayName": "Mohamed Nasr",
      "userId": "05906421286611802623"
     },
     "user_tz": 420
    },
    "id": "Hcbbf8V-G0jF",
    "outputId": "f4365572-38a9-4e85-c890-44f64fbededc"
   },
   "outputs": [
    {
     "data": {
      "text/plain": [
       "array([list(['cs.LG']), list(['cs.LG', 'cs.AI']),\n",
       "       list(['cs.LG', 'cs.CR', 'stat.ML']), list(['cs.LG', 'cs.CR']),\n",
       "       list(['cs.LG'])], dtype=object)"
      ]
     },
     "execution_count": 17,
     "metadata": {},
     "output_type": "execute_result"
    }
   ],
   "source": [
    "df['terms'].values[:5]  # Check the first 5 values of the 'terms' column"
   ]
  },
  {
   "cell_type": "code",
   "execution_count": 55,
   "metadata": {},
   "outputs": [
    {
     "data": {
      "text/plain": [
       "<bound method Series.unique of 0                          [cs.LG]\n",
       "1                   [cs.LG, cs.AI]\n",
       "2          [cs.LG, cs.CR, stat.ML]\n",
       "3                   [cs.LG, cs.CR]\n",
       "4                          [cs.LG]\n",
       "                   ...            \n",
       "56170                      [cs.CV]\n",
       "56173                    [stat.ML]\n",
       "56175             [stat.ML, cs.LG]\n",
       "56176               [cs.CV, cs.IR]\n",
       "56179    [stat.ML, cs.LG, math.OC]\n",
       "Name: terms, Length: 38623, dtype: object>"
      ]
     },
     "execution_count": 55,
     "metadata": {},
     "output_type": "execute_result"
    }
   ],
   "source": [
    "df['terms'].unique"
   ]
  },
  {
   "cell_type": "markdown",
   "metadata": {
    "id": "jdQY_OLbKBgQ"
   },
   "source": [
    "<a id=\"1\"></a>\n",
    "# <div style=\"text-align:center; border-radius:15px 50px; padding:15px; color:white; margin:0; font-size:100%; font-family:Pacifico; background-color:#0ca9e9; overflow:hidden\"><b>Data Spliting</b></div>\n"
   ]
  },
  {
   "cell_type": "code",
   "execution_count": 18,
   "metadata": {
    "colab": {
     "base_uri": "https://localhost:8080/"
    },
    "executionInfo": {
     "elapsed": 91,
     "status": "ok",
     "timestamp": 1747558127730,
     "user": {
      "displayName": "Mohamed Nasr",
      "userId": "05906421286611802623"
     },
     "user_tz": 420
    },
    "id": "GAZe0TiCJZYG",
    "outputId": "d77a65bb-4b28-490a-df89-fa25189c89b7"
   },
   "outputs": [
    {
     "name": "stdout",
     "output_type": "stream",
     "text": [
      "Train size : 34760\n",
      "Test size : 1931\n",
      "Validation size : 1932\n"
     ]
    }
   ],
   "source": [
    "#split the dataset into train, test and validation sets\n",
    "# The dataset is split into three parts: training, testing, and validation.\n",
    "\n",
    "train_df, test_df=train_test_split(df, test_size=0.1, random_state=42,stratify=df['terms'])\n",
    "val_df=test_df.sample(frac=0.5, random_state=42)   # Split the test set into validation and test sets\n",
    "# The validation set is 50% of the test set, so the test set will be 50% of the original test set.\n",
    "test_df=test_df.drop(val_df.index)  # Drop the validation set from the test set\n",
    "# Check the sizes of the train, test, and validation sets\n",
    "print(f\"Train size : {len(train_df)}\")\n",
    "print(f\"Test size : {len(test_df)}\")\n",
    "print(f\"Validation size : {len(val_df)}\")"
   ]
  },
  {
   "cell_type": "markdown",
   "metadata": {
    "id": "wJxsZVP5jqwJ"
   },
   "source": [
    "<a id=\"1\"></a>\n",
    "# <div style=\"text-align:center; border-radius:15px 50px; padding:15px; color:white; margin:0; font-size:100%; font-family:Pacifico; background-color:#0ca9e9; overflow:hidden\"><b>Target Preparing</b></div>\n"
   ]
  },
  {
   "cell_type": "code",
   "execution_count": 19,
   "metadata": {
    "colab": {
     "base_uri": "https://localhost:8080/"
    },
    "executionInfo": {
     "elapsed": 1320,
     "status": "ok",
     "timestamp": 1747558135304,
     "user": {
      "displayName": "Mohamed Nasr",
      "userId": "05906421286611802623"
     },
     "user_tz": 420
    },
    "id": "MbenAazeKfhG",
    "outputId": "bf7a4070-6524-4fc7-a404-dbf6da1da954"
   },
   "outputs": [
    {
     "name": "stdout",
     "output_type": "stream",
     "text": [
      "Number of classes: 164\n",
      "Sample classes: ['14J60 (Primary) 14F05, 14J26 (Secondary)' '60L10, 60L20' '62H30' '62H35'\n",
      " '62H99' '65D19' '68' '68Q32' '68T01' '68T05']\n"
     ]
    }
   ],
   "source": [
    "from sklearn.preprocessing import MultiLabelBinarizer\n",
    "\n",
    "# Create and fit the MultiLabelBinarizer on the terms\n",
    "mlb = MultiLabelBinarizer()\n",
    "mlb.fit(train_df['terms'])\n",
    "\n",
    "# Get the classes (vocabulary)\n",
    "vocab = mlb.classes_\n",
    "print(f\"Number of classes: {len(vocab)}\")\n",
    "print(\"Sample classes:\", vocab[:10])"
   ]
  },
  {
   "cell_type": "code",
   "execution_count": 20,
   "metadata": {
    "colab": {
     "base_uri": "https://localhost:8080/"
    },
    "executionInfo": {
     "elapsed": 6,
     "status": "ok",
     "timestamp": 1747558139056,
     "user": {
      "displayName": "Mohamed Nasr",
      "userId": "05906421286611802623"
     },
     "user_tz": 420
    },
    "id": "9Z4Pen5DUUQz",
    "outputId": "5e7b6a53-4f46-462e-9fb7-b5284c015eef"
   },
   "outputs": [
    {
     "data": {
      "text/plain": [
       "164"
      ]
     },
     "execution_count": 20,
     "metadata": {},
     "output_type": "execute_result"
    }
   ],
   "source": [
    "len(vocab) # This is the size of the vocabulary, which is the number of unique terms in the dataset."
   ]
  },
  {
   "cell_type": "code",
   "execution_count": 22,
   "metadata": {
    "colab": {
     "base_uri": "https://localhost:8080/"
    },
    "executionInfo": {
     "elapsed": 1424,
     "status": "ok",
     "timestamp": 1747558144515,
     "user": {
      "displayName": "Mohamed Nasr",
      "userId": "05906421286611802623"
     },
     "user_tz": 420
    },
    "id": "_q5stQeeSQj4",
    "outputId": "fc87804d-6c3e-4cb0-f265-a17773710108"
   },
   "outputs": [
    {
     "name": "stdout",
     "output_type": "stream",
     "text": [
      "Original sample: ['cs.LG']\n",
      "Binarized sample: [0 0 0 0 0 0 0 0 0 0 0 0 0 0 0 0 0 0 0 0 0 0 0 0 0 0 0 0 0 0 0 0 0 0 0 0 0\n",
      " 0 0 0 0 0 0 0 0 0 0 0 0 0 0 0 0 0 0 0 0 0 0 0 0 0 0 0 0 0 0 0 0 0 0 0 0 0\n",
      " 0 0 0 0 0 0 0 0 0 0 0 0 0 0 0 0 1 0 0 0 0 0 0 0 0 0 0 0 0 0 0 0 0 0 0 0 0\n",
      " 0 0 0 0 0 0 0 0 0 0 0 0 0 0 0 0 0 0 0 0 0 0 0 0 0 0 0 0 0 0 0 0 0 0 0 0 0\n",
      " 0 0 0 0 0 0 0 0 0 0 0 0 0 0 0 0]\n",
      "Number of active classes: 1\n"
     ]
    }
   ],
   "source": [
    "# Transform the labels to multi-hot encoded format\n",
    "train_labels = mlb.transform(train_df['terms'])\n",
    "val_labels = mlb.transform(val_df['terms'])\n",
    "test_labels = mlb.transform(test_df['terms'])\n",
    "\n",
    "# Show a sample of multi-hot encoding\n",
    "sample = df['terms'][0]\n",
    "print(\"Original sample:\", sample)\n",
    "binarized_sample = mlb.transform([sample])[0]\n",
    "print(\"Binarized sample:\", binarized_sample)\n",
    "print(\"Number of active classes:\", sum(binarized_sample))"
   ]
  },
  {
   "cell_type": "code",
   "execution_count": 23,
   "metadata": {},
   "outputs": [
    {
     "name": "stdout",
     "output_type": "stream",
     "text": [
      "Reconstructed sample: ['cs.LG']\n"
     ]
    }
   ],
   "source": [
    "# Function to convert binarized labels back to original terms\n",
    "def invert_multi_hot(encoded_labels):\n",
    "    return [vocab[i] for i, val in enumerate(encoded_labels) if val == 1]\n",
    "\n",
    "print(\"Reconstructed sample:\", invert_multi_hot(binarized_sample))\n"
   ]
  },
  {
   "cell_type": "markdown",
   "metadata": {
    "id": "MKPcx8_mjqwJ"
   },
   "source": [
    "\"\"\"<a id=\"1\"></a>\n",
    "# <div style=\"text-align:center; border-radius:15px 50px; padding:15px; color:white; margin:0; font-size:100%; font-family:Pacifico; background-color:#0ca9e9; overflow:hidden\"><b>Text Vectorization with Scikit-learn</b></div>\n",
    "\n",
    "\"\"\""
   ]
  },
  {
   "cell_type": "code",
   "execution_count": 24,
   "metadata": {
    "colab": {
     "base_uri": "https://localhost:8080/",
     "height": 53
    },
    "executionInfo": {
     "elapsed": 22,
     "status": "ok",
     "timestamp": 1747558151408,
     "user": {
      "displayName": "Mohamed Nasr",
      "userId": "05906421286611802623"
     },
     "user_tz": 420
    },
    "id": "cg-rQAV6UOlY",
    "outputId": "917ea1a5-c925-420d-f8b5-fc02a07a10e3"
   },
   "outputs": [
    {
     "name": "stdout",
     "output_type": "stream",
     "text": [
      "Vocabulary size: 159041\n"
     ]
    }
   ],
   "source": [
    "# Creating a more deployment-friendly text vectorizer using scikit-learn's TfidfVectorizer\n",
    "# This is easier to serialize and load in production environments\n",
    "\n",
    "# First, let's determine vocabulary size\n",
    "vocabulary = set()  # This creates an empty set to store unique words\n",
    "train_df['abstracts'].str.lower().str.split().apply(vocabulary.update)\n",
    "vocab_size = len(vocabulary)\n",
    "print(f\"Vocabulary size: {vocab_size}\")"
   ]
  },
  {
   "cell_type": "code",
   "execution_count": 25,
   "metadata": {},
   "outputs": [
    {
     "name": "stdout",
     "output_type": "stream",
     "text": [
      "Actual vocabulary size used: 100000\n",
      "Sample feature names: ['early', 'automl', 'frameworks', 'focused', 'optimizing']\n"
     ]
    }
   ],
   "source": [
    "# Initialize TfidfVectorizer with unigrams and bigrams (n-grams)\n",
    "tfidf_vectorizer = TfidfVectorizer(\n",
    "    max_features=min(100000, vocab_size),  # Limit to prevent memory issues\n",
    "    ngram_range=(1, 2),                    # Include unigrams and bigrams\n",
    "    stop_words='english',                  # Remove common English stop words\n",
    "    min_df=5                               # Minimum document frequency\n",
    ")\n",
    "\n",
    "# Fit the vectorizer on the training abstracts\n",
    "tfidf_vectorizer.fit(train_df['abstracts'])\n",
    "\n",
    "print(f\"Actual vocabulary size used: {len(tfidf_vectorizer.vocabulary_)}\")\n",
    "print(f\"Sample feature names: {list(tfidf_vectorizer.vocabulary_.keys())[:5]}\")\n"
   ]
  },
  {
   "cell_type": "code",
   "execution_count": 26,
   "metadata": {},
   "outputs": [
    {
     "name": "stdout",
     "output_type": "stream",
     "text": [
      "Train features shape: (34760, 100000)\n",
      "Validation features shape: (1932, 100000)\n",
      "Test features shape: (1931, 100000)\n"
     ]
    }
   ],
   "source": [
    "# Transform the abstracts into TF-IDF vectors\n",
    "train_features = tfidf_vectorizer.transform(train_df['abstracts'])\n",
    "val_features = tfidf_vectorizer.transform(val_df['abstracts'])\n",
    "test_features = tfidf_vectorizer.transform(test_df['abstracts'])\n",
    "\n",
    "print(f\"Train features shape: {train_features.shape}\")\n",
    "print(f\"Validation features shape: {val_features.shape}\")\n",
    "print(f\"Test features shape: {test_features.shape}\")"
   ]
  },
  {
   "cell_type": "markdown",
   "metadata": {
    "executionInfo": {
     "elapsed": 392,
     "status": "ok",
     "timestamp": 1747558156169,
     "user": {
      "displayName": "Mohamed Nasr",
      "userId": "05906421286611802623"
     },
     "user_tz": 420
    },
    "id": "n_erINQ3dxZT"
   },
   "source": [
    "\"\"\"<a id=\"1\"></a>\n",
    "# <div style=\"text-align:center; border-radius:15px 50px; padding:15px; color:white; margin:0; font-size:100%; font-family:Pacifico; background-color:#0ca9e9; overflow:hidden\"><b>Converting to TensorFlow Dataset Format</b></div>\n",
    "\n",
    "\"\"\""
   ]
  },
  {
   "cell_type": "code",
   "execution_count": 28,
   "metadata": {
    "colab": {
     "base_uri": "https://localhost:8080/"
    },
    "executionInfo": {
     "elapsed": 21,
     "status": "ok",
     "timestamp": 1747558157834,
     "user": {
      "displayName": "Mohamed Nasr",
      "userId": "05906421286611802623"
     },
     "user_tz": 420
    },
    "id": "BC6UjnCKfW-a",
    "outputId": "52333105-7332-41d5-d22d-2f6d36a67adf"
   },
   "outputs": [
    {
     "name": "stdout",
     "output_type": "stream",
     "text": [
      "Number of training batches: 272\n",
      "Number of validation batches: 16\n",
      "Number of test batches: 16\n",
      "Sample batch X shape: (128, 100000)\n",
      "Sample batch y shape: (128, 164)\n"
     ]
    }
   ],
   "source": [
    "import scipy.sparse as sp\n",
    "from tensorflow.keras.utils import Sequence\n",
    "\n",
    "class SparseDataGenerator(Sequence):\n",
    "    \"\"\"\n",
    "    Generator that converts sparse matrices to dense in small batches to avoid memory issues\n",
    "    \"\"\"\n",
    "    def __init__(self, X_sparse, y, batch_size):\n",
    "        self.X_sparse = X_sparse\n",
    "        self.y = y\n",
    "        self.batch_size = batch_size\n",
    "        \n",
    "    def __len__(self):\n",
    "        return int(np.ceil(self.X_sparse.shape[0] / self.batch_size))\n",
    "    \n",
    "    def __getitem__(self, idx):\n",
    "        # Get batch indices\n",
    "        start_idx = idx * self.batch_size\n",
    "        end_idx = min((idx + 1) * self.batch_size, self.X_sparse.shape[0])\n",
    "        \n",
    "        # Extract and convert batch data\n",
    "        X_batch = self.X_sparse[start_idx:end_idx].toarray()\n",
    "        y_batch = self.y[start_idx:end_idx]\n",
    "        \n",
    "        return X_batch, y_batch\n",
    "\n",
    "# Create data generators\n",
    "batch_size = 128\n",
    "train_generator = SparseDataGenerator(train_features, train_labels, batch_size)\n",
    "val_generator = SparseDataGenerator(val_features, val_labels, batch_size)\n",
    "test_generator = SparseDataGenerator(test_features, test_labels, batch_size)\n",
    "\n",
    "# Print out some information\n",
    "print(f\"Number of training batches: {len(train_generator)}\")\n",
    "print(f\"Number of validation batches: {len(val_generator)}\")\n",
    "print(f\"Number of test batches: {len(test_generator)}\")\n",
    "\n",
    "# Check the shape of a single batch\n",
    "X_sample, y_sample = train_generator[0]\n",
    "print(f\"Sample batch X shape: {X_sample.shape}\")\n",
    "print(f\"Sample batch y shape: {y_sample.shape}\")"
   ]
  },
  {
   "cell_type": "markdown",
   "metadata": {
    "id": "zGc0g8AsHdnk"
   },
   "source": [
    "<a id=\"1\"></a>\n",
    "# <div style=\"text-align:center; border-radius:15px 50px; padding:15px; color:white; margin:0; font-size:100%; font-family:Pacifico; background-color:#0ca9e9; overflow:hidden\"><b>Model Training</b></div>\n",
    "\n",
    "\n"
   ]
  },
  {
   "cell_type": "code",
   "execution_count": 29,
   "metadata": {
    "colab": {
     "base_uri": "https://localhost:8080/"
    },
    "executionInfo": {
     "elapsed": 717133,
     "status": "ok",
     "timestamp": 1747559304438,
     "user": {
      "displayName": "Mohamed Nasr",
      "userId": "05906421286611802623"
     },
     "user_tz": 420
    },
    "id": "Yde07jnHHbsC",
    "outputId": "1bf89fbd-d7eb-4a95-f07d-ca8d3ff70283"
   },
   "outputs": [
    {
     "name": "stdout",
     "output_type": "stream",
     "text": [
      "Epoch 1/20\n"
     ]
    },
    {
     "name": "stderr",
     "output_type": "stream",
     "text": [
      "C:\\Users\\moham\\.conda\\envs\\tensorGPU\\lib\\site-packages\\keras\\src\\trainers\\data_adapters\\py_dataset_adapter.py:121: UserWarning: Your `PyDataset` class should call `super().__init__(**kwargs)` in its constructor. `**kwargs` can include `workers`, `use_multiprocessing`, `max_queue_size`. Do not pass these arguments to `fit()`, as they will be ignored.\n",
      "  self._warn_if_super_not_called()\n"
     ]
    },
    {
     "name": "stdout",
     "output_type": "stream",
     "text": [
      "\u001b[1m272/272\u001b[0m \u001b[32m━━━━━━━━━━━━━━━━━━━━\u001b[0m\u001b[37m\u001b[0m \u001b[1m169s\u001b[0m 613ms/step - binary_accuracy: 0.8497 - loss: 0.3571 - val_binary_accuracy: 0.9929 - val_loss: 0.0651\n",
      "Epoch 2/20\n",
      "\u001b[1m272/272\u001b[0m \u001b[32m━━━━━━━━━━━━━━━━━━━━\u001b[0m\u001b[37m\u001b[0m \u001b[1m164s\u001b[0m 604ms/step - binary_accuracy: 0.9925 - loss: 0.0368 - val_binary_accuracy: 0.9944 - val_loss: 0.0238\n",
      "Epoch 3/20\n",
      "\u001b[1m272/272\u001b[0m \u001b[32m━━━━━━━━━━━━━━━━━━━━\u001b[0m\u001b[37m\u001b[0m \u001b[1m179s\u001b[0m 658ms/step - binary_accuracy: 0.9943 - loss: 0.0246 - val_binary_accuracy: 0.9944 - val_loss: 0.0200\n",
      "Epoch 4/20\n",
      "\u001b[1m272/272\u001b[0m \u001b[32m━━━━━━━━━━━━━━━━━━━━\u001b[0m\u001b[37m\u001b[0m \u001b[1m154s\u001b[0m 567ms/step - binary_accuracy: 0.9948 - loss: 0.0211 - val_binary_accuracy: 0.9944 - val_loss: 0.0195\n",
      "Epoch 5/20\n",
      "\u001b[1m272/272\u001b[0m \u001b[32m━━━━━━━━━━━━━━━━━━━━\u001b[0m\u001b[37m\u001b[0m \u001b[1m160s\u001b[0m 587ms/step - binary_accuracy: 0.9950 - loss: 0.0196 - val_binary_accuracy: 0.9944 - val_loss: 0.0193\n",
      "Epoch 6/20\n",
      "\u001b[1m272/272\u001b[0m \u001b[32m━━━━━━━━━━━━━━━━━━━━\u001b[0m\u001b[37m\u001b[0m \u001b[1m194s\u001b[0m 713ms/step - binary_accuracy: 0.9952 - loss: 0.0186 - val_binary_accuracy: 0.9944 - val_loss: 0.0193\n",
      "Epoch 7/20\n",
      "\u001b[1m272/272\u001b[0m \u001b[32m━━━━━━━━━━━━━━━━━━━━\u001b[0m\u001b[37m\u001b[0m \u001b[1m156s\u001b[0m 574ms/step - binary_accuracy: 0.9952 - loss: 0.0182 - val_binary_accuracy: 0.9944 - val_loss: 0.0196\n",
      "Epoch 8/20\n",
      "\u001b[1m272/272\u001b[0m \u001b[32m━━━━━━━━━━━━━━━━━━━━\u001b[0m\u001b[37m\u001b[0m \u001b[1m167s\u001b[0m 613ms/step - binary_accuracy: 0.9953 - loss: 0.0179 - val_binary_accuracy: 0.9944 - val_loss: 0.0195\n",
      "Epoch 9/20\n",
      "\u001b[1m272/272\u001b[0m \u001b[32m━━━━━━━━━━━━━━━━━━━━\u001b[0m\u001b[37m\u001b[0m \u001b[1m160s\u001b[0m 590ms/step - binary_accuracy: 0.9954 - loss: 0.0170 - val_binary_accuracy: 0.9945 - val_loss: 0.0193\n",
      "Epoch 10/20\n",
      "\u001b[1m272/272\u001b[0m \u001b[32m━━━━━━━━━━━━━━━━━━━━\u001b[0m\u001b[37m\u001b[0m \u001b[1m161s\u001b[0m 593ms/step - binary_accuracy: 0.9955 - loss: 0.0166 - val_binary_accuracy: 0.9945 - val_loss: 0.0192\n",
      "Epoch 11/20\n",
      "\u001b[1m272/272\u001b[0m \u001b[32m━━━━━━━━━━━━━━━━━━━━\u001b[0m\u001b[37m\u001b[0m \u001b[1m164s\u001b[0m 603ms/step - binary_accuracy: 0.9955 - loss: 0.0159 - val_binary_accuracy: 0.9945 - val_loss: 0.0193\n",
      "Epoch 12/20\n",
      "\u001b[1m272/272\u001b[0m \u001b[32m━━━━━━━━━━━━━━━━━━━━\u001b[0m\u001b[37m\u001b[0m \u001b[1m164s\u001b[0m 605ms/step - binary_accuracy: 0.9956 - loss: 0.0152 - val_binary_accuracy: 0.9945 - val_loss: 0.0195\n",
      "Epoch 13/20\n",
      "\u001b[1m272/272\u001b[0m \u001b[32m━━━━━━━━━━━━━━━━━━━━\u001b[0m\u001b[37m\u001b[0m \u001b[1m159s\u001b[0m 584ms/step - binary_accuracy: 0.9957 - loss: 0.0146 - val_binary_accuracy: 0.9946 - val_loss: 0.0197\n",
      "Epoch 14/20\n",
      "\u001b[1m272/272\u001b[0m \u001b[32m━━━━━━━━━━━━━━━━━━━━\u001b[0m\u001b[37m\u001b[0m \u001b[1m160s\u001b[0m 589ms/step - binary_accuracy: 0.9958 - loss: 0.0140 - val_binary_accuracy: 0.9946 - val_loss: 0.0202\n",
      "Epoch 15/20\n",
      "\u001b[1m272/272\u001b[0m \u001b[32m━━━━━━━━━━━━━━━━━━━━\u001b[0m\u001b[37m\u001b[0m \u001b[1m155s\u001b[0m 568ms/step - binary_accuracy: 0.9959 - loss: 0.0134 - val_binary_accuracy: 0.9946 - val_loss: 0.0205\n"
     ]
    }
   ],
   "source": [
    "from tensorflow import keras\n",
    "from tensorflow.keras import layers\n",
    "from tensorflow.keras.callbacks import EarlyStopping\n",
    "\n",
    "# Build the model\n",
    "# Use the feature size from the vectorizer and class count from the vocabulary\n",
    "input_dim = train_features.shape[1]  # Number of features from TF-IDF\n",
    "output_dim = len(vocab)              # Number of subject area classes\n",
    "\n",
    "model = keras.Sequential([\n",
    "    # Input layer\n",
    "    layers.Input(shape=(input_dim,)),\n",
    "    \n",
    "    # First dense layer\n",
    "    layers.Dense(512),\n",
    "    layers.BatchNormalization(),\n",
    "    layers.Activation(\"relu\"),\n",
    "    layers.Dropout(0.5),\n",
    "\n",
    "    # Second dense layer\n",
    "    layers.Dense(256),\n",
    "    layers.BatchNormalization(),\n",
    "    layers.Activation(\"relu\"),\n",
    "    layers.Dropout(0.5),\n",
    "\n",
    "    # Third dense layer\n",
    "    layers.Dense(128),\n",
    "    layers.BatchNormalization(),\n",
    "    layers.Activation(\"relu\"),\n",
    "    layers.Dropout(0.5),\n",
    "\n",
    "    # Fourth dense layer\n",
    "    layers.Dense(64),\n",
    "    layers.BatchNormalization(),\n",
    "    layers.Activation(\"relu\"),\n",
    "    layers.Dropout(0.5),\n",
    "\n",
    "    # Output layer\n",
    "    layers.Dense(output_dim, activation='sigmoid')\n",
    "])\n",
    "\n",
    "# Compile the model\n",
    "model.compile(loss=\"binary_crossentropy\", optimizer='adam', metrics=['binary_accuracy'])\n",
    "\n",
    "# Early stopping\n",
    "early_stopping = EarlyStopping(patience=5, restore_best_weights=True)\n",
    "\n",
    "# Train the model using the generators\n",
    "history = model.fit(\n",
    "    train_generator,\n",
    "    validation_data=val_generator,\n",
    "    epochs=20,\n",
    "    callbacks=[early_stopping]\n",
    ")"
   ]
  },
  {
   "cell_type": "markdown",
   "metadata": {
    "id": "P16YXQKejqwO"
   },
   "source": [
    "<a id=\"1\"></a>\n",
    "# <div style=\"text-align:center; border-radius:15px 50px; padding:15px; color:white; margin:0; font-size:100%; font-family:Pacifico; background-color:#0ca9e9; overflow:hidden\"><b>Metrics Plotting</b></div>\n",
    "\n",
    "\n"
   ]
  },
  {
   "cell_type": "code",
   "execution_count": 30,
   "metadata": {
    "colab": {
     "base_uri": "https://localhost:8080/",
     "height": 929
    },
    "executionInfo": {
     "elapsed": 373,
     "status": "ok",
     "timestamp": 1747559336173,
     "user": {
      "displayName": "Mohamed Nasr",
      "userId": "05906421286611802623"
     },
     "user_tz": 420
    },
    "id": "f8vzom2wHo2r",
    "outputId": "51ab0915-5959-4307-f912-1fac9f139e3e"
   },
   "outputs": [
    {
     "data": {
      "image/png": "[encoded data removed]",
      "text/plain": [
       "<Figure size 640x480 with 1 Axes>"
      ]
     },
     "metadata": {},
     "output_type": "display_data"
    },
    {
     "data": {
      "image/png": "[encoded data removed]",
      "text/plain": [
       "<Figure size 640x480 with 1 Axes>"
      ]
     },
     "metadata": {},
     "output_type": "display_data"
    }
   ],
   "source": [
    "# plotting loss\n",
    "def plot_result(item):\n",
    "    plt.plot(history.history[item], label=item)\n",
    "    plt.plot(history.history[\"val_\" + item], label=\"val_\" + item)\n",
    "    plt.xlabel(\"Epochs\")\n",
    "    plt.ylabel(item)\n",
    "    plt.title(\"Train and Validation {} Over Epochs\".format(item), fontsize=14)\n",
    "    plt.legend()\n",
    "    plt.grid()\n",
    "    plt.show()\n",
    "\n",
    "\n",
    "plot_result(\"loss\")\n",
    "plot_result(\"binary_accuracy\")"
   ]
  },
  {
   "cell_type": "markdown",
   "metadata": {
    "id": "MnxkdRIDLLJU"
   },
   "source": [
    "<a id=\"1\"></a>\n",
    "# <div style=\"text-align:center; border-radius:15px 50px; padding:15px; color:white; margin:0; font-size:100%; font-family:Pacifico; background-color:#0ca9e9; overflow:hidden\"><b>Model Evaluation</b></div>\n",
    "\n"
   ]
  },
  {
   "cell_type": "code",
   "execution_count": 32,
   "metadata": {
    "colab": {
     "base_uri": "https://localhost:8080/"
    },
    "executionInfo": {
     "elapsed": 89762,
     "status": "ok",
     "timestamp": 1747559637750,
     "user": {
      "displayName": "Mohamed Nasr",
      "userId": "05906421286611802623"
     },
     "user_tz": 420
    },
    "id": "yWpSQ_DDHo5T",
    "outputId": "b936c139-a7ea-433a-c4df-852a5b8e74f6"
   },
   "outputs": [
    {
     "name": "stdout",
     "output_type": "stream",
     "text": [
      "\u001b[1m272/272\u001b[0m \u001b[32m━━━━━━━━━━━━━━━━━━━━\u001b[0m\u001b[37m\u001b[0m \u001b[1m24s\u001b[0m 90ms/step - binary_accuracy: 0.9958 - loss: 0.0140\n",
      "\u001b[1m16/16\u001b[0m \u001b[32m━━━━━━━━━━━━━━━━━━━━\u001b[0m\u001b[37m\u001b[0m \u001b[1m1s\u001b[0m 80ms/step - binary_accuracy: 0.9944 - loss: 0.0196\n",
      "\u001b[1m16/16\u001b[0m \u001b[32m━━━━━━━━━━━━━━━━━━━━\u001b[0m\u001b[37m\u001b[0m \u001b[1m2s\u001b[0m 95ms/step - binary_accuracy: 0.9945 - loss: 0.0192\n",
      "Binary accuracy on the train set: 99.57%.\n",
      "Binary accuracy on the validation set: 99.45%.\n",
      "Binary accuracy on the test set: 99.45%.\n"
     ]
    }
   ],
   "source": [
    "train_loss, binary_acc_train = model.evaluate(train_generator)\n",
    "val_loss, binary_acc_val = model.evaluate(val_generator)\n",
    "test_loss, binary_acc_test = model.evaluate(test_generator)\n",
    "\n",
    "print(f\"Binary accuracy on the train set: {round(binary_acc_train * 100, 2)}%.\")\n",
    "print(f\"Binary accuracy on the validation set: {round(binary_acc_val * 100, 2)}%.\")\n",
    "print(f\"Binary accuracy on the test set: {round(binary_acc_test * 100, 2)}%.\")"
   ]
  },
  {
   "cell_type": "markdown",
   "metadata": {
    "id": "fWviEy_5M_80"
   },
   "source": [
    "<a id=\"1\"></a>\n",
    "# <div style=\"text-align:center; border-radius:15px 50px; padding:15px; color:white; margin:0; font-size:100%; font-family:Pacifico; background-color:#0ca9e9; overflow:hidden\"><b>Save Model & Vectorizer</b></div>\n",
    "\n",
    "\n"
   ]
  },
  {
   "cell_type": "code",
   "execution_count": 33,
   "metadata": {},
   "outputs": [
    {
     "name": "stdout",
     "output_type": "stream",
     "text": [
      "Model and preprocessing components saved successfully!\n"
     ]
    }
   ],
   "source": [
    "# Save the model\n",
    "model.save(\"subject_area_model.keras\")\n",
    "\n",
    "# Save the TF-IDF vectorizer\n",
    "with open('tfidf_vectorizer.pkl', 'wb') as f:\n",
    "    pickle.dump(tfidf_vectorizer, f)\n",
    "\n",
    "# Save the MultiLabelBinarizer\n",
    "with open('label_binarizer.pkl', 'wb') as f:\n",
    "    pickle.dump(mlb, f)\n",
    "\n",
    "\n",
    "    \n",
    "print(\"Model and preprocessing components saved successfully!\")"
   ]
  },
  {
   "cell_type": "markdown",
   "metadata": {},
   "source": [
    "<a id=\"1\"></a>\n",
    "# <div style=\"text-align:center; border-radius:15px 50px; padding:15px; color:white; margin:0; font-size:100%; font-family:Pacifico; background-color:#0ca9e9; overflow:hidden\"><b>Test Model </b></div>"
   ]
  },
  {
   "cell_type": "code",
   "execution_count": 42,
   "metadata": {},
   "outputs": [
    {
     "name": "stdout",
     "output_type": "stream",
     "text": [
      "Model and preprocessing components loaded successfully!\n"
     ]
    }
   ],
   "source": [
    "from keras.models import load_model\n",
    "# Load the model\n",
    "loaded_model = load_model(\"subject_area_model.keras\")\n",
    "\n",
    "# Load the TF-IDF vectorizer\n",
    "with open('tfidf_vectorizer.pkl', 'rb') as f:\n",
    "    loaded_vectorizer = pickle.load(f)\n",
    "\n",
    "# Load the MultiLabelBinarizer\n",
    "with open('label_binarizer.pkl', 'rb') as f:\n",
    "    loaded_mlb = pickle.load(f)\n",
    "\n",
    "# Get vocabulary from the loaded MultiLabelBinarizer\n",
    "loaded_vocab = loaded_mlb.classes_\n",
    "\n",
    "print(\"Model and preprocessing components loaded successfully!\")"
   ]
  },
  {
   "cell_type": "code",
   "execution_count": 47,
   "metadata": {},
   "outputs": [],
   "source": [
    "def predict_subject_areas(abstract_text, model, vectorizer, mlb, threshold=0.5):\n",
    "    # Transform the abstract text using the TF-IDF vectorizer\n",
    "    abstract_vector = vectorizer.transform([abstract_text])\n",
    "    \n",
    "    # Convert to dense array for prediction\n",
    "    abstract_vector_dense = abstract_vector.toarray()\n",
    "    \n",
    "    # Make predictions using the model\n",
    "    predictions = model.predict(abstract_vector_dense)\n",
    "    \n",
    "    # Apply threshold to get binary predictions\n",
    "    binary_predictions = (predictions[0] > threshold).astype(int)\n",
    "    \n",
    "    # Convert binary predictions back to subject area labels\n",
    "    predicted_subjects = [mlb.classes_[i] for i, val in enumerate(binary_predictions) if val == 1]\n",
    "    \n",
    "    return predicted_subjects"
   ]
  },
  {
   "cell_type": "code",
   "execution_count": 50,
   "metadata": {},
   "outputs": [],
   "source": [
    "input_abstract = \"\"\"The dominant sequence transduction models are based on complex\n",
    "recurrent or convolutional neural networks in an encoder-decoder configuration.\n",
    "The best performing models also connect the encoder and decoder through an attention mechanism.\n",
    "We propose a new simple network architecture, the Transformer, based solely on attention mechanisms,\n",
    "dispensing with recurrence and convolutions entirely.\n",
    "Experiments on two machine translation tasks show these models to be superior \n",
    "in quality while being more parallelizable and requiring significantly less time to train. \n",
    "Our model achieves 28.4 BLEU on the WMT 2014 English-to-German translation task, improving over the existing best results, i\n",
    "ncluding ensembles by over 2 BLEU. On the WMT 2014 English-to-French translation task, \n",
    "our model establishes a new single-model state-of-the-art BLEU score of 41.8 after training for 3.5 days on eight GPUs, \n",
    "a small fraction of the training costs of the best models from the literature.\n",
    "We show that the Transformer generalizes well to other tasks by applying it successfully to English\n",
    "constituency parsing both with large and limited training data.\"\"\""
   ]
  },
  {
   "cell_type": "code",
   "execution_count": 51,
   "metadata": {},
   "outputs": [
    {
     "name": "stdout",
     "output_type": "stream",
     "text": [
      "\u001b[1m1/1\u001b[0m \u001b[32m━━━━━━━━━━━━━━━━━━━━\u001b[0m\u001b[37m\u001b[0m \u001b[1m0s\u001b[0m 51ms/step\n",
      "Predicted subject areas: ['cs.LG', 'stat.ML']\n"
     ]
    }
   ],
   "source": [
    "predicted_terms = predict_subject_areas(input_abstract, loaded_model, loaded_vectorizer, loaded_mlb)\n",
    "print(\"Predicted subject areas:\", predicted_terms)"
   ]
  },
  {
   "cell_type": "markdown",
   "metadata": {
    "id": "aS_XdTiBjqwP"
   },
   "source": [
    "<a id=\"1\"></a>\n",
    "# <div style=\"text-align:center; border-radius:15px 50px; padding:15px; color:white; margin:0; font-size:100%; font-family:Pacifico; background-color:#0ca9e9; overflow:hidden\"><b>Thank you </b></div>\n"
   ]
  },
  {
   "cell_type": "code",
   "execution_count": 46,
   "metadata": {},
   "outputs": [
    {
     "name": "stdout",
     "output_type": "stream",
     "text": [
      "cs.LG\n",
      "stat.ML\n"
     ]
    }
   ],
   "source": [
    "for term in predicted_terms:\n",
    "    print(term)"
   ]
  },
  {
   "cell_type": "code",
   "execution_count": null,
   "metadata": {},
   "outputs": [],
   "source": []
  }
 ],
 "metadata": {
  "accelerator": "GPU",
  "colab": {
   "gpuType": "T4",
   "provenance": []
  },
  "kernelspec": {
   "display_name": "base",
   "language": "python",
   "name": "python3"
  },
  "language_info": {
   "codemirror_mode": {
    "name": "ipython",
    "version": 3
   },
   "file_extension": ".py",
   "mimetype": "text/x-python",
   "name": "python",
   "nbconvert_exporter": "python",
   "pygments_lexer": "ipython3",
   "version": "3.12.7"
  }
 },
 "nbformat": 4,
 "nbformat_minor": 4
}

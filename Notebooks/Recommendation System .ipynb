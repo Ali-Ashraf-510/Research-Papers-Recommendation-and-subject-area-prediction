{
 "cells": [
  {
   "cell_type": "markdown",
   "id": "8868ce8d",
   "metadata": {
    "id": "8868ce8d"
   },
   "source": [
    "<a id=\"1\"></a>\n",
    "# <div style=\"text-align:center; border-radius:15px 50px; padding:15px; color:white; margin:0; font-size:100%; font-family:Pacifico; background-color:#0ca9e9; overflow:hidden\"><b>Importing Libraries</b></div>"
   ]
  },
  {
   "cell_type": "code",
   "execution_count": 14,
   "id": "539404f5-4a17-48d3-851e-c2847edec46e",
   "metadata": {
    "executionInfo": {
     "elapsed": 446,
     "status": "ok",
     "timestamp": 1747752291072,
     "user": {
      "displayName": "Mohamed Tawfik",
      "userId": "12038111543521932643"
     },
     "user_tz": -180
    },
    "id": "539404f5-4a17-48d3-851e-c2847edec46e"
   },
   "outputs": [],
   "source": [
    "import pandas as pd\n",
    "import numpy as np"
   ]
  },
  {
   "cell_type": "markdown",
   "id": "293d8da3",
   "metadata": {
    "id": "293d8da3"
   },
   "source": [
    "<a id=\"1\"></a>\n",
    "# <div style=\"text-align:center; border-radius:15px 50px; padding:15px; color:white; margin:0; font-size:100%; font-family:Pacifico; background-color:#0ca9e9; overflow:hidden\"><b>Reading Data</b></div>"
   ]
  },
  {
   "cell_type": "code",
   "execution_count": 15,
   "id": "39f45184-84dd-40ca-bf56-4a1166c8be93",
   "metadata": {
    "colab": {
     "base_uri": "https://localhost:8080/",
     "height": 478
    },
    "executionInfo": {
     "elapsed": 394,
     "status": "error",
     "timestamp": 1747752580587,
     "user": {
      "displayName": "Mohamed Tawfik",
      "userId": "12038111543521932643"
     },
     "user_tz": -180
    },
    "id": "39f45184-84dd-40ca-bf56-4a1166c8be93",
    "outputId": "04652a80-46ee-429f-bf59-24ac71baaa59"
   },
   "outputs": [
    {
     "data": {
      "text/html": [
       "<div>\n",
       "<style scoped>\n",
       "    .dataframe tbody tr th:only-of-type {\n",
       "        vertical-align: middle;\n",
       "    }\n",
       "\n",
       "    .dataframe tbody tr th {\n",
       "        vertical-align: top;\n",
       "    }\n",
       "\n",
       "    .dataframe thead th {\n",
       "        text-align: right;\n",
       "    }\n",
       "</style>\n",
       "<table border=\"1\" class=\"dataframe\">\n",
       "  <thead>\n",
       "    <tr style=\"text-align: right;\">\n",
       "      <th></th>\n",
       "      <th>terms</th>\n",
       "      <th>titles</th>\n",
       "      <th>abstracts</th>\n",
       "    </tr>\n",
       "  </thead>\n",
       "  <tbody>\n",
       "    <tr>\n",
       "      <th>0</th>\n",
       "      <td>['cs.LG']</td>\n",
       "      <td>Multi-Level Attention Pooling for Graph Neural...</td>\n",
       "      <td>Graph neural networks (GNNs) have been widely ...</td>\n",
       "    </tr>\n",
       "    <tr>\n",
       "      <th>1</th>\n",
       "      <td>['cs.LG', 'cs.AI']</td>\n",
       "      <td>Decision Forests vs. Deep Networks: Conceptual...</td>\n",
       "      <td>Deep networks and decision forests (such as ra...</td>\n",
       "    </tr>\n",
       "    <tr>\n",
       "      <th>2</th>\n",
       "      <td>['cs.LG', 'cs.CR', 'stat.ML']</td>\n",
       "      <td>Power up! Robust Graph Convolutional Network v...</td>\n",
       "      <td>Graph convolutional networks (GCNs) are powerf...</td>\n",
       "    </tr>\n",
       "    <tr>\n",
       "      <th>3</th>\n",
       "      <td>['cs.LG', 'cs.CR']</td>\n",
       "      <td>Releasing Graph Neural Networks with Different...</td>\n",
       "      <td>With the increasing popularity of Graph Neural...</td>\n",
       "    </tr>\n",
       "    <tr>\n",
       "      <th>4</th>\n",
       "      <td>['cs.LG']</td>\n",
       "      <td>Recurrence-Aware Long-Term Cognitive Network f...</td>\n",
       "      <td>Machine learning solutions for pattern classif...</td>\n",
       "    </tr>\n",
       "  </tbody>\n",
       "</table>\n",
       "</div>"
      ],
      "text/plain": [
       "                           terms  \\\n",
       "0                      ['cs.LG']   \n",
       "1             ['cs.LG', 'cs.AI']   \n",
       "2  ['cs.LG', 'cs.CR', 'stat.ML']   \n",
       "3             ['cs.LG', 'cs.CR']   \n",
       "4                      ['cs.LG']   \n",
       "\n",
       "                                              titles  \\\n",
       "0  Multi-Level Attention Pooling for Graph Neural...   \n",
       "1  Decision Forests vs. Deep Networks: Conceptual...   \n",
       "2  Power up! Robust Graph Convolutional Network v...   \n",
       "3  Releasing Graph Neural Networks with Different...   \n",
       "4  Recurrence-Aware Long-Term Cognitive Network f...   \n",
       "\n",
       "                                           abstracts  \n",
       "0  Graph neural networks (GNNs) have been widely ...  \n",
       "1  Deep networks and decision forests (such as ra...  \n",
       "2  Graph convolutional networks (GCNs) are powerf...  \n",
       "3  With the increasing popularity of Graph Neural...  \n",
       "4  Machine learning solutions for pattern classif...  "
      ]
     },
     "execution_count": 15,
     "metadata": {},
     "output_type": "execute_result"
    }
   ],
   "source": [
    "df = pd.read_csv(\"arxiv_data_210930-054931.csv\")\n",
    "df.head()"
   ]
  },
  {
   "cell_type": "code",
   "execution_count": 16,
   "id": "5bca1ff7-bab0-4cb2-a335-42acc80f6f60",
   "metadata": {
    "colab": {
     "base_uri": "https://localhost:8080/",
     "height": 141
    },
    "executionInfo": {
     "elapsed": 43,
     "status": "error",
     "timestamp": 1747752582759,
     "user": {
      "displayName": "Mohamed Tawfik",
      "userId": "12038111543521932643"
     },
     "user_tz": -180
    },
    "id": "5bca1ff7-bab0-4cb2-a335-42acc80f6f60",
    "outputId": "41d76841-9b0e-4408-f561-70380acfbbd8"
   },
   "outputs": [
    {
     "data": {
      "text/plain": [
       "(56181, 3)"
      ]
     },
     "execution_count": 16,
     "metadata": {},
     "output_type": "execute_result"
    }
   ],
   "source": [
    "df.shape"
   ]
  },
  {
   "cell_type": "markdown",
   "id": "a5ed0135",
   "metadata": {
    "id": "a5ed0135"
   },
   "source": [
    "<a id=\"1\"></a>\n",
    "# <div style=\"text-align:center; border-radius:15px 50px; padding:15px; color:white; margin:0; font-size:100%; font-family:Pacifico; background-color:#0ca9e9; overflow:hidden\"><b>Data Cleaning</b></div>"
   ]
  },
  {
   "cell_type": "code",
   "execution_count": 17,
   "id": "e6ba8b35-43a1-43e2-9adf-6eef5af4cb9c",
   "metadata": {
    "id": "e6ba8b35-43a1-43e2-9adf-6eef5af4cb9c",
    "outputId": "31b62c17-08c9-42af-a1ff-69434052c55f"
   },
   "outputs": [
    {
     "data": {
      "text/plain": [
       "15054"
      ]
     },
     "execution_count": 17,
     "metadata": {},
     "output_type": "execute_result"
    }
   ],
   "source": [
    "df.duplicated().sum() #check for duplicates"
   ]
  },
  {
   "cell_type": "code",
   "execution_count": 18,
   "id": "06197a93-9a50-41fc-836a-b2d5c7a9ff35",
   "metadata": {
    "id": "06197a93-9a50-41fc-836a-b2d5c7a9ff35"
   },
   "outputs": [],
   "source": [
    "df.drop_duplicates(inplace=True)"
   ]
  },
  {
   "cell_type": "code",
   "execution_count": 19,
   "id": "1c2401f9-c3ca-4f42-975a-48e66c9f64de",
   "metadata": {},
   "outputs": [
    {
     "data": {
      "text/plain": [
       "0"
      ]
     },
     "execution_count": 19,
     "metadata": {},
     "output_type": "execute_result"
    }
   ],
   "source": [
    "df.duplicated().sum()"
   ]
  },
  {
   "cell_type": "markdown",
   "id": "5f1b50a9-4eb8-4018-898d-8c6b9b3b2b12",
   "metadata": {
    "id": "5f1b50a9-4eb8-4018-898d-8c6b9b3b2b12"
   },
   "source": [
    "<a id=\"1\"></a>\n",
    "# <div style=\"text-align:center; border-radius:15px 50px; padding:15px; color:white; margin:0; font-size:100%; font-family:Pacifico; background-color:#0ca9e9; overflow:hidden\"><b>Paper Recommendation</b></div>\n"
   ]
  },
  {
   "cell_type": "code",
   "execution_count": 20,
   "id": "b39ad158-1694-40ec-aebd-43b0f6b2d2dc",
   "metadata": {
    "id": "b39ad158-1694-40ec-aebd-43b0f6b2d2dc"
   },
   "outputs": [],
   "source": [
    "df[\"content\"] = df[\"titles\"] + \" \" + df[\"abstracts\"]  #combine titles and abstracts into one column\n",
    "titles = df[\"titles\"]\n",
    "abstracts = df[\"abstracts\"]"
   ]
  },
  {
   "cell_type": "code",
   "execution_count": 8,
   "id": "7c0ffaac",
   "metadata": {
    "id": "7c0ffaac"
   },
   "outputs": [],
   "source": [
    "!pip install -U -q sentence-transformers"
   ]
  },
  {
   "cell_type": "code",
   "execution_count": 9,
   "id": "e55049a3-6417-4178-911a-25997a5b4279",
   "metadata": {
    "colab": {
     "referenced_widgets": [
      "b08b735d1f134a8e9161462c2827b1a0"
     ]
    },
    "id": "e55049a3-6417-4178-911a-25997a5b4279",
    "outputId": "e514166b-c431-4523-b95d-13cd6ac16c09"
   },
   "outputs": [
    {
     "name": "stdout",
     "output_type": "stream",
     "text": [
      "WARNING:tensorflow:From C:\\Users\\moham\\.conda\\envs\\tensorGPU\\lib\\site-packages\\tf_keras\\src\\losses.py:2976: The name tf.losses.sparse_softmax_cross_entropy is deprecated. Please use tf.compat.v1.losses.sparse_softmax_cross_entropy instead.\n",
      "\n"
     ]
    },
    {
     "data": {
      "application/vnd.jupyter.widget-view+json": {
       "model_id": "c88ce85100c54f69b78d1040fea3d4a0",
       "version_major": 2,
       "version_minor": 0
      },
      "text/plain": [
       "Batches:   0%|          | 0/1286 [00:00<?, ?it/s]"
      ]
     },
     "metadata": {},
     "output_type": "display_data"
    }
   ],
   "source": [
    "\n",
    "# this is a pretrained model from the sentence-transformers library\n",
    "from sentence_transformers import SentenceTransformer\n",
    "from sklearn.metrics.pairwise import cosine_similarity\n",
    "# we load all-MiniLM-L6-v2, which is a MiniLM model fine tuned on a large dataset of over\n",
    "# 1 billion training pairs.\n",
    "#This initializes the 'all-MiniLM-L6-v2' model from Sentence Transformers.\n",
    "# This model is capable of encoding sentences into fixed-size vectors (embeddings).\n",
    "model = SentenceTransformer(\"all-MiniLM-L6-v2\")\n",
    "#The model is used to encode the content of the DataFrame into embeddings.\n",
    "# The show_progress_bar=True argument displays a progress bar during the encoding process.\n",
    "embeddings = model.encode(df[\"content\"].tolist() , show_progress_bar=True)\n"
   ]
  },
  {
   "cell_type": "markdown",
   "id": "003258ab",
   "metadata": {
    "id": "003258ab"
   },
   "source": [
    "<a id=\"1\"></a>\n",
    "# <div style=\"text-align:center; border-radius:15px 50px; padding:15px; color:white; margin:0; font-size:100%; font-family:Pacifico; background-color:#0ca9e9; overflow:hidden\"><b>Why select all-MiniLM-L6-v2?</b></div>\n",
    "\n",
    "\n",
    "\n",
    "\n",
    "All-round model tuned for many use-cases. Trained on a large and diverse dataset of over 1 billion training pairs. Source\n",
    "\n",
    "Its small in size 80 MB with good performance."
   ]
  },
  {
   "cell_type": "markdown",
   "id": "f92d3bd5",
   "metadata": {
    "id": "f92d3bd5"
   },
   "source": [
    "<a id=\"1\"></a>\n",
    "# <div style=\"text-align:center; border-radius:15px 50px; padding:15px; color:white; margin:0; font-size:100%; font-family:Pacifico; background-color:#0ca9e9; overflow:hidden\"><b>Save Files</b></div>"
   ]
  },
  {
   "cell_type": "code",
   "execution_count": 10,
   "id": "7d68e603-0aff-4680-a6c5-62ffa798abe2",
   "metadata": {
    "id": "7d68e603-0aff-4680-a6c5-62ffa798abe2"
   },
   "outputs": [],
   "source": [
    "import pickle\n",
    "#save the embeddings, titles, abstracts and model to disk using pickle\n",
    "\n",
    "with open('embeddings.pkl', 'wb') as f:\n",
    "    pickle.dump(embeddings, f)\n",
    "\n",
    "with open('titles.pkl', 'wb') as f:\n",
    "    pickle.dump(titles, f)\n",
    "\n",
    "with open('abstracts.pkl', 'wb') as f:\n",
    "    pickle.dump(abstracts, f)\n",
    "\n",
    "with open('rec_model.pkl', 'wb') as f:\n",
    "    pickle.dump(model, f)"
   ]
  },
  {
   "cell_type": "code",
   "execution_count": 4,
   "id": "899f2c4c-7c89-421f-a791-9aae064c2741",
   "metadata": {},
   "outputs": [],
   "source": [
    "import pickle"
   ]
  },
  {
   "cell_type": "markdown",
   "id": "1f791f96",
   "metadata": {
    "id": "1f791f96"
   },
   "source": [
    "<a id=\"1\"></a>\n",
    "# <div style=\"text-align:center; border-radius:15px 50px; padding:15px; color:white; margin:0; font-size:100%; font-family:Pacifico; background-color:#0ca9e9; overflow:hidden\"><b>Loading Files</b></div>"
   ]
  },
  {
   "cell_type": "code",
   "execution_count": 5,
   "id": "2efb079a-3903-4395-b8c4-59a0bf274ff5",
   "metadata": {
    "id": "2efb079a-3903-4395-b8c4-59a0bf274ff5"
   },
   "outputs": [
    {
     "name": "stdout",
     "output_type": "stream",
     "text": [
      "WARNING:tensorflow:From C:\\Users\\moham\\.conda\\envs\\tensorGPU\\lib\\site-packages\\tf_keras\\src\\losses.py:2976: The name tf.losses.sparse_softmax_cross_entropy is deprecated. Please use tf.compat.v1.losses.sparse_softmax_cross_entropy instead.\n",
      "\n"
     ]
    }
   ],
   "source": [
    "embeddings = pickle.load(open('models/embeddings.pkl','rb'))\n",
    "titles = pickle.load(open('models/titles.pkl','rb'))\n",
    "abstracts = pickle.load(open('models/abstracts.pkl','rb'))\n",
    "rec_model = pickle.load(open('models/rec_model.pkl','rb'))"
   ]
  },
  {
   "cell_type": "markdown",
   "id": "f93af746",
   "metadata": {
    "id": "f93af746"
   },
   "source": [
    "<a id=\"1\"></a>\n",
    "# <div style=\"text-align:center; border-radius:15px 50px; padding:15px; color:white; margin:0; font-size:100%; font-family:Pacifico; background-color:#0ca9e9; overflow:hidden\"><b>Build Recommendation Function</b></div>"
   ]
  },
  {
   "cell_type": "code",
   "execution_count": 35,
   "id": "d389af65-00e7-4db7-b73d-f7eeba64ad19",
   "metadata": {
    "id": "d389af65-00e7-4db7-b73d-f7eeba64ad19"
   },
   "outputs": [],
   "source": [
    "# This function takes a title as input and returns the top N most similar papers based on cosine similarity.\n",
    "# It uses the pre-trained model to encode the input title and compares it with the embeddings of all papers.\n",
    "def recommend_papers(input_title, top_n=5):\n",
    "    input_embedding = rec_model.encode([input_title]) #encode the input title\n",
    "    sim_scores = cosine_similarity(input_embedding, embeddings)[0]  #calculate cosine similarity\n",
    "    top_indices = sim_scores.argsort()[::-1][:top_n]  #get the indices of the top N most similar papers\n",
    "    #sort the indices in descending order of similarity scores\n",
    "    return df.iloc[top_indices][['titles', 'abstracts']]  #return the titles and abstracts of the top N most similar papers"
   ]
  },
  {
   "cell_type": "code",
   "execution_count": 36,
   "id": "778e7025-e012-404b-9a37-33ca1abded65",
   "metadata": {
    "id": "778e7025-e012-404b-9a37-33ca1abded65",
    "outputId": "f724a98c-4e50-49fb-8c89-81b84f476e70"
   },
   "outputs": [
    {
     "data": {
      "text/html": [
       "<div>\n",
       "<style scoped>\n",
       "    .dataframe tbody tr th:only-of-type {\n",
       "        vertical-align: middle;\n",
       "    }\n",
       "\n",
       "    .dataframe tbody tr th {\n",
       "        vertical-align: top;\n",
       "    }\n",
       "\n",
       "    .dataframe thead th {\n",
       "        text-align: right;\n",
       "    }\n",
       "</style>\n",
       "<table border=\"1\" class=\"dataframe\">\n",
       "  <thead>\n",
       "    <tr style=\"text-align: right;\">\n",
       "      <th></th>\n",
       "      <th>titles</th>\n",
       "      <th>abstracts</th>\n",
       "    </tr>\n",
       "  </thead>\n",
       "  <tbody>\n",
       "    <tr>\n",
       "      <th>33669</th>\n",
       "      <td>An Attentive Survey of Attention Models</td>\n",
       "      <td>Attention Model has now become an important co...</td>\n",
       "    </tr>\n",
       "    <tr>\n",
       "      <th>38666</th>\n",
       "      <td>Copy this Sentence</td>\n",
       "      <td>Attention is an operation that selects some la...</td>\n",
       "    </tr>\n",
       "    <tr>\n",
       "      <th>1248</th>\n",
       "      <td>Area Attention</td>\n",
       "      <td>Existing attention mechanisms are trained to a...</td>\n",
       "    </tr>\n",
       "    <tr>\n",
       "      <th>36547</th>\n",
       "      <td>AiR: Attention with Reasoning Capability</td>\n",
       "      <td>While attention has been an increasingly popul...</td>\n",
       "    </tr>\n",
       "    <tr>\n",
       "      <th>34788</th>\n",
       "      <td>Attention, please! A survey of Neural Attentio...</td>\n",
       "      <td>In humans, Attention is a core property of all...</td>\n",
       "    </tr>\n",
       "  </tbody>\n",
       "</table>\n",
       "</div>"
      ],
      "text/plain": [
       "                                                  titles  \\\n",
       "33669            An Attentive Survey of Attention Models   \n",
       "38666                                 Copy this Sentence   \n",
       "1248                                      Area Attention   \n",
       "36547           AiR: Attention with Reasoning Capability   \n",
       "34788  Attention, please! A survey of Neural Attentio...   \n",
       "\n",
       "                                               abstracts  \n",
       "33669  Attention Model has now become an important co...  \n",
       "38666  Attention is an operation that selects some la...  \n",
       "1248   Existing attention mechanisms are trained to a...  \n",
       "36547  While attention has been an increasingly popul...  \n",
       "34788  In humans, Attention is a core property of all...  "
      ]
     },
     "execution_count": 36,
     "metadata": {},
     "output_type": "execute_result"
    }
   ],
   "source": [
    "# example usage\n",
    "recommended = recommend_papers(\"Attention Is All You Need\", top_n=5)\n",
    "recommended"
   ]
  },
  {
   "cell_type": "markdown",
   "id": "bd680107",
   "metadata": {
    "id": "bd680107"
   },
   "source": [
    "<a id=\"1\"></a>\n",
    "# <div style=\"text-align:center; border-radius:15px 50px; padding:15px; color:white; margin:0; font-size:100%; font-family:Pacifico; background-color:#0ca9e9; overflow:hidden\"><b>Thank You</b></div>"
   ]
  },
  {
   "cell_type": "code",
   "execution_count": null,
   "id": "beac407e-ada4-4c6a-a0fe-ce1680d4fd9d",
   "metadata": {},
   "outputs": [],
   "source": []
  }
 ],
 "metadata": {
  "colab": {
   "provenance": []
  },
  "kernelspec": {
   "display_name": "Python 3 (ipykernel)",
   "language": "python",
   "name": "python3"
  },
  "language_info": {
   "codemirror_mode": {
    "name": "ipython",
    "version": 3
   },
   "file_extension": ".py",
   "mimetype": "text/x-python",
   "name": "python",
   "nbconvert_exporter": "python",
   "pygments_lexer": "ipython3",
   "version": "3.10.14"
  }
 },
 "nbformat": 4,
 "nbformat_minor": 5
}
